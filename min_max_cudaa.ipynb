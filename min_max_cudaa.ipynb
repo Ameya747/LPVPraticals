{
  "nbformat": 4,
  "nbformat_minor": 0,
  "metadata": {
    "colab": {
      "provenance": []
    },
    "kernelspec": {
      "name": "python3",
      "display_name": "Python 3"
    },
    "language_info": {
      "name": "python"
    }
  },
  "cells": [
    {
      "cell_type": "code",
      "execution_count": 4,
      "metadata": {
        "colab": {
          "base_uri": "https://localhost:8080/"
        },
        "id": "JDC09KS5U2wt",
        "outputId": "a93314a5-77e0-4c47-cb12-8321e9d24655"
      },
      "outputs": [
        {
          "output_type": "stream",
          "name": "stdout",
          "text": [
            "Writing omp_min_max_avg.cu\n"
          ]
        }
      ],
      "source": [
        "%%writefile omp_min_max_avg.cu\n",
        "\n",
        "#include <iostream>\n",
        "#include <omp.h>\n",
        "#include <ctime>\n",
        "#include <cstdlib>\n",
        "\n",
        "using namespace std;\n",
        "\n",
        "void min(int *arr, int n)\n",
        "{\n",
        "   double min_val = 10000;\n",
        "   int i;\n",
        "   cout << endl;\n",
        "#pragma omp parallel for reduction(min : min_val)\n",
        "   for (i = 0; i < n; i++)\n",
        "   {\n",
        "      cout << \"\\nthread id = \" << omp_get_thread_num() << \" and i = \" << i;\n",
        "      if (arr[i] < min_val)\n",
        "      {\n",
        "         min_val = arr[i];\n",
        "      }\n",
        "   }\n",
        "   cout << \"\\n\\nmin_val = \" << min_val << endl;\n",
        "}\n",
        "\n",
        "void max(int *arr, int n)\n",
        "{\n",
        "   double max_val = 0.0;\n",
        "   int i;\n",
        "\n",
        "#pragma omp parallel for reduction(max : max_val)\n",
        "   for (i = 0; i < n; i++)\n",
        "   {\n",
        "      cout << \"\\nthread id = \" << omp_get_thread_num() << \" and i = \" << i;\n",
        "      if (arr[i] > max_val)\n",
        "      {\n",
        "         max_val = arr[i];\n",
        "      }\n",
        "   }\n",
        "   cout << \"\\n\\nmax_val = \" << max_val << endl;\n",
        "}\n",
        "\n",
        "void avg(int *arr, int n)\n",
        "{\n",
        "   int i;\n",
        "   float avg = 0, sum = 0;\n",
        "#pragma omp parallel reduction(+:sum)\n",
        "   {\n",
        "#pragma omp for\n",
        "      for (i = 0; i < n; i++)\n",
        "      {\n",
        "         sum = sum + arr[i];\n",
        "         cout << \"\\nthread id = \" << omp_get_thread_num() << \" and i = \" << i;\n",
        "      }\n",
        "   }\n",
        "   cout << \"\\n\\nSum = \" << sum << endl;\n",
        "   avg = sum / n;\n",
        "   cout << \"\\nAverage = \" << avg << endl;\n",
        "}\n",
        "\n",
        "int main()\n",
        "{\n",
        "   omp_set_num_threads(4);\n",
        "   int n, i;\n",
        "\n",
        "   cout << \"Enter the number of elements in the array: \";\n",
        "   cin >> n;\n",
        "   int *arr = new int[n];\n",
        "\n",
        "   srand(time(0));\n",
        "   for (int i = 0; i < n; ++i)\n",
        "   {\n",
        "      arr[i] = rand() % 100;\n",
        "   }\n",
        "\n",
        "   cout << \"\\nArray elements are: \";\n",
        "   for (i = 0; i < n; i++)\n",
        "   {\n",
        "      cout << arr[i] << \",\";\n",
        "   }\n",
        "\n",
        "   min(arr, n);\n",
        "   max(arr, n);\n",
        "   avg(arr, n);\n",
        "\n",
        "   delete[] arr;\n",
        "   return 0;\n",
        "}\n",
        "\n"
      ]
    },
    {
      "cell_type": "code",
      "source": [
        "!nvcc omp_min_max_avg.cu -o min_max_avg\n"
      ],
      "metadata": {
        "colab": {
          "base_uri": "https://localhost:8080/"
        },
        "id": "PI9QfIB2XTTC",
        "outputId": "bb63eb9a-b599-40f2-abea-77eaef3b686f"
      },
      "execution_count": 6,
      "outputs": [
        {
          "output_type": "stream",
          "name": "stdout",
          "text": [
            "/usr/bin/ld: /tmp/tmpxft_00000a09_00000000-11_omp_min_max_avg.o: in function `min(int*, int)':\n",
            "tmpxft_00000a09_00000000-6_omp_min_max_avg.cudafe1.cpp:(.text+0x7d): undefined reference to `omp_get_thread_num'\n",
            "/usr/bin/ld: /tmp/tmpxft_00000a09_00000000-11_omp_min_max_avg.o: in function `max(int*, int)':\n",
            "tmpxft_00000a09_00000000-6_omp_min_max_avg.cudafe1.cpp:(.text+0x198): undefined reference to `omp_get_thread_num'\n",
            "/usr/bin/ld: /tmp/tmpxft_00000a09_00000000-11_omp_min_max_avg.o: in function `avg(int*, int)':\n",
            "tmpxft_00000a09_00000000-6_omp_min_max_avg.cudafe1.cpp:(.text+0x2e4): undefined reference to `omp_get_thread_num'\n",
            "/usr/bin/ld: /tmp/tmpxft_00000a09_00000000-11_omp_min_max_avg.o: in function `main':\n",
            "tmpxft_00000a09_00000000-6_omp_min_max_avg.cudafe1.cpp:(.text+0x3e0): undefined reference to `omp_set_num_threads'\n",
            "collect2: error: ld returned 1 exit status\n"
          ]
        }
      ]
    },
    {
      "cell_type": "code",
      "source": [
        "!./omp_min_max_avg\n"
      ],
      "metadata": {
        "colab": {
          "base_uri": "https://localhost:8080/"
        },
        "id": "at28FxnVXdg1",
        "outputId": "9647541c-e265-41d3-af9b-1221bb7bd826"
      },
      "execution_count": 8,
      "outputs": [
        {
          "output_type": "stream",
          "name": "stdout",
          "text": [
            "Enter the number of elements in the array: 5\n",
            "\n",
            "Array elements are: 0,33,31,22,69,\n",
            "\n",
            "thread id = 3 and i = 4\n",
            "thread id = 0 and i = 0\n",
            "thread id = 0 and i = 1\n",
            "thread id = 2 and i = 3\n",
            "thread id = 1 and i = 2\n",
            "\n",
            "min_val = 0\n",
            "\n",
            "thread id = 0 and i = 0\n",
            "thread id = 0 and i = 1\n",
            "thread id = 2 and i = 3\n",
            "thread id = 1 and i = 2\n",
            "thread id = 3 and i = 4\n",
            "\n",
            "max_val = 69\n",
            "\n",
            "thread id = 0 and i = 0\n",
            "thread id = 0 and i = 1\n",
            "thread id = 2 and i = 3\n",
            "thread id = 1 and i = 2\n",
            "thread id = 3 and i = 4\n",
            "\n",
            "Sum = 155\n",
            "\n",
            "Average = 31\n"
          ]
        }
      ]
    }
  ]
}