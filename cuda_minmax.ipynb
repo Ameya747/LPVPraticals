{
  "nbformat": 4,
  "nbformat_minor": 0,
  "metadata": {
    "colab": {
      "provenance": []
    },
    "kernelspec": {
      "name": "python3",
      "display_name": "Python 3"
    },
    "language_info": {
      "name": "python"
    }
  },
  "cells": [
    {
      "cell_type": "code",
      "execution_count": 4,
      "metadata": {
        "colab": {
          "base_uri": "https://localhost:8080/"
        },
        "id": "ONP48Qe2g-g0",
        "outputId": "3e705073-2eb7-48e1-9f62-c8557f0649de"
      },
      "outputs": [
        {
          "output_type": "stream",
          "name": "stdout",
          "text": [
            "Writing min_max_avg.cu\n"
          ]
        }
      ],
      "source": [
        "%%writefile min_max_avg.cu\n",
        "#include <iostream>\n",
        "#include <cstdlib>\n",
        "#include <ctime>\n",
        "#include <float.h>\n",
        "\n",
        "__global__ void find_min(int *arr, int *result, int n) {\n",
        "    __shared__ int shared_min[256];\n",
        "    int tid = threadIdx.x + blockIdx.x * blockDim.x;\n",
        "    int local_min = INT_MAX;\n",
        "\n",
        "    while (tid < n) {\n",
        "        if (arr[tid] < local_min)\n",
        "            local_min = arr[tid];\n",
        "        tid += blockDim.x * gridDim.x;\n",
        "    }\n",
        "\n",
        "    shared_min[threadIdx.x] = local_min;\n",
        "    __syncthreads();\n",
        "\n",
        "    // Reduction within block\n",
        "    for (int s = blockDim.x / 2; s > 0; s >>= 1) {\n",
        "        if (threadIdx.x < s)\n",
        "            shared_min[threadIdx.x] = min(shared_min[threadIdx.x], shared_min[threadIdx.x + s]);\n",
        "        __syncthreads();\n",
        "    }\n",
        "\n",
        "    if (threadIdx.x == 0)\n",
        "        atomicMin(result, shared_min[0]);\n",
        "}\n",
        "\n",
        "__global__ void find_max(int *arr, int *result, int n) {\n",
        "    __shared__ int shared_max[256];\n",
        "    int tid = threadIdx.x + blockIdx.x * blockDim.x;\n",
        "    int local_max = INT_MIN;\n",
        "\n",
        "    while (tid < n) {\n",
        "        if (arr[tid] > local_max)\n",
        "            local_max = arr[tid];\n",
        "        tid += blockDim.x * gridDim.x;\n",
        "    }\n",
        "\n",
        "    shared_max[threadIdx.x] = local_max;\n",
        "    __syncthreads();\n",
        "\n",
        "    for (int s = blockDim.x / 2; s > 0; s >>= 1) {\n",
        "        if (threadIdx.x < s)\n",
        "            shared_max[threadIdx.x] = max(shared_max[threadIdx.x], shared_max[threadIdx.x + s]);\n",
        "        __syncthreads();\n",
        "    }\n",
        "\n",
        "    if (threadIdx.x == 0)\n",
        "        atomicMax(result, shared_max[0]);\n",
        "}\n",
        "\n",
        "__global__ void find_sum(int *arr, int *sum, int n) {\n",
        "    __shared__ int shared_sum[256];\n",
        "    int tid = threadIdx.x + blockIdx.x * blockDim.x;\n",
        "    int local_sum = 0;\n",
        "\n",
        "    while (tid < n) {\n",
        "        local_sum += arr[tid];\n",
        "        tid += blockDim.x * gridDim.x;\n",
        "    }\n",
        "\n",
        "    shared_sum[threadIdx.x] = local_sum;\n",
        "    __syncthreads();\n",
        "\n",
        "    for (int s = blockDim.x / 2; s > 0; s >>= 1) {\n",
        "        if (threadIdx.x < s)\n",
        "            shared_sum[threadIdx.x] += shared_sum[threadIdx.x + s];\n",
        "        __syncthreads();\n",
        "    }\n",
        "\n",
        "    if (threadIdx.x == 0)\n",
        "        atomicAdd(sum, shared_sum[0]);\n",
        "}\n",
        "\n",
        "int main() {\n",
        "    int n;\n",
        "    std::cout << \"Enter number of elements: \";\n",
        "    std::cin >> n;\n",
        "\n",
        "    int *h_arr = new int[n];\n",
        "    srand(time(0));\n",
        "    std::cout << \"Array: \";\n",
        "    for (int i = 0; i < n; i++) {\n",
        "        h_arr[i] = rand() % 100;\n",
        "        std::cout << h_arr[i] << \" \";\n",
        "    }\n",
        "    std::cout << \"\\n\";\n",
        "\n",
        "    int *d_arr, *d_min, *d_max, *d_sum;\n",
        "    int h_min = INT_MAX, h_max = INT_MIN, h_sum = 0;\n",
        "\n",
        "    cudaMalloc(&d_arr, n * sizeof(int));\n",
        "    cudaMalloc(&d_min, sizeof(int));\n",
        "    cudaMalloc(&d_max, sizeof(int));\n",
        "    cudaMalloc(&d_sum, sizeof(int));\n",
        "\n",
        "    cudaMemcpy(d_arr, h_arr, n * sizeof(int), cudaMemcpyHostToDevice);\n",
        "    cudaMemcpy(d_min, &h_min, sizeof(int), cudaMemcpyHostToDevice);\n",
        "    cudaMemcpy(d_max, &h_max, sizeof(int), cudaMemcpyHostToDevice);\n",
        "    cudaMemcpy(d_sum, &h_sum, sizeof(int), cudaMemcpyHostToDevice);\n",
        "\n",
        "    find_min<<<1, 256>>>(d_arr, d_min, n);\n",
        "    find_max<<<1, 256>>>(d_arr, d_max, n);\n",
        "    find_sum<<<1, 256>>>(d_arr, d_sum, n);\n",
        "\n",
        "    cudaMemcpy(&h_min, d_min, sizeof(int), cudaMemcpyDeviceToHost);\n",
        "    cudaMemcpy(&h_max, d_max, sizeof(int), cudaMemcpyDeviceToHost);\n",
        "    cudaMemcpy(&h_sum, d_sum, sizeof(int), cudaMemcpyDeviceToHost);\n",
        "\n",
        "    std::cout << \"Minimum = \" << h_min << \"\\n\";\n",
        "    std::cout << \"Maximum = \" << h_max << \"\\n\";\n",
        "    std::cout << \"Average = \" << (float)h_sum / n << \"\\n\";\n",
        "\n",
        "    cudaFree(d_arr);\n",
        "    cudaFree(d_min);\n",
        "    cudaFree(d_max);\n",
        "    cudaFree(d_sum);\n",
        "    delete[] h_arr;\n",
        "    return 0;\n",
        "}\n"
      ]
    },
    {
      "cell_type": "code",
      "source": [
        "!nvcc min_max_avg.cu -o min_max_avg\n"
      ],
      "metadata": {
        "id": "0H6vG0ilhE00"
      },
      "execution_count": 5,
      "outputs": []
    },
    {
      "cell_type": "code",
      "source": [
        "!./min_max_avg\n",
        "\n"
      ],
      "metadata": {
        "colab": {
          "base_uri": "https://localhost:8080/"
        },
        "id": "wkhiZSFUhLnY",
        "outputId": "6e703fba-6ceb-4fb8-8a61-01214d3a9fdd"
      },
      "execution_count": 6,
      "outputs": [
        {
          "output_type": "stream",
          "name": "stdout",
          "text": [
            "Enter number of elements: 5\n",
            "Array: 51 93 87 86 97 \n",
            "Minimum = 2147483647\n",
            "Maximum = -2147483648\n",
            "Average = 0\n"
          ]
        }
      ]
    }
  ]
}